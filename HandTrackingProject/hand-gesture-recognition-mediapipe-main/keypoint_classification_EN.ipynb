{
 "cells": [
  {
   "cell_type": "code",
   "execution_count": 1,
   "metadata": {
    "id": "igMyGnjE9hEp"
   },
   "outputs": [
    {
     "name": "stderr",
     "output_type": "stream",
     "text": [
      "2024-07-18 10:32:10.902764: I tensorflow/core/platform/cpu_feature_guard.cc:182] This TensorFlow binary is optimized to use available CPU instructions in performance-critical operations.\n",
      "To enable the following instructions: SSE4.1 SSE4.2 AVX AVX2 AVX512F AVX512_VNNI FMA, in other operations, rebuild TensorFlow with the appropriate compiler flags.\n"
     ]
    }
   ],
   "source": [
    "import csv\n",
    "\n",
    "import numpy as np\n",
    "import tensorflow as tf\n",
    "from sklearn.model_selection import train_test_split\n",
    "\n",
    "RANDOM_SEED = 42"
   ]
  },
  {
   "cell_type": "markdown",
   "metadata": {
    "id": "t2HDvhIu9hEr"
   },
   "source": [
    "# Specify each path"
   ]
  },
  {
   "cell_type": "code",
   "execution_count": 2,
   "metadata": {
    "id": "9NvZP2Zn9hEy"
   },
   "outputs": [],
   "source": [
    "dataset = 'model/keypoint_classifier/keypoint.csv'\n",
    "model_save_path = 'model/keypoint_classifier/keypoint_classifier.hdf5'\n",
    "tflite_save_path = 'model/keypoint_classifier/keypoint_classifier.tflite'"
   ]
  },
  {
   "cell_type": "markdown",
   "metadata": {
    "id": "s5oMH7x19hEz"
   },
   "source": [
    "# Set number of classes"
   ]
  },
  {
   "cell_type": "code",
   "execution_count": 3,
   "metadata": {
    "id": "du4kodXL9hEz"
   },
   "outputs": [],
   "source": [
    "NUM_CLASSES = 5"
   ]
  },
  {
   "cell_type": "markdown",
   "metadata": {
    "id": "XjnL0uso9hEz"
   },
   "source": [
    "# Dataset reading"
   ]
  },
  {
   "cell_type": "code",
   "execution_count": 4,
   "metadata": {
    "id": "QT5ZqtEz9hE0"
   },
   "outputs": [],
   "source": [
    "X_dataset = np.loadtxt(dataset, delimiter=',', dtype='float32', usecols=list(range(1, (21 * 2) + 1)))"
   ]
  },
  {
   "cell_type": "code",
   "execution_count": 5,
   "metadata": {
    "id": "QmoKFsp49hE0"
   },
   "outputs": [],
   "source": [
    "y_dataset = np.loadtxt(dataset, delimiter=',', dtype='int32', usecols=(0))"
   ]
  },
  {
   "cell_type": "code",
   "execution_count": 6,
   "metadata": {
    "id": "xQU7JTZ_9hE0"
   },
   "outputs": [],
   "source": [
    "X_train, X_test, y_train, y_test = train_test_split(X_dataset, y_dataset, train_size=0.75, random_state=RANDOM_SEED)"
   ]
  },
  {
   "cell_type": "markdown",
   "metadata": {
    "id": "mxK_lETT9hE0"
   },
   "source": [
    "# Model building"
   ]
  },
  {
   "cell_type": "code",
   "execution_count": 7,
   "metadata": {
    "id": "vHBmUf1t9hE1"
   },
   "outputs": [
    {
     "name": "stderr",
     "output_type": "stream",
     "text": [
      "2024-07-18 10:32:12.951254: I tensorflow/core/common_runtime/process_util.cc:146] Creating new thread pool with default inter op setting: 2. Tune using inter_op_parallelism_threads for best performance.\n"
     ]
    }
   ],
   "source": [
    "model = tf.keras.models.Sequential([\n",
    "    tf.keras.layers.Input((21 * 2, )),\n",
    "    tf.keras.layers.Dropout(0.2),\n",
    "    tf.keras.layers.Dense(20, activation='relu'),\n",
    "    tf.keras.layers.Dropout(0.4),\n",
    "    tf.keras.layers.Dense(10, activation='relu'),\n",
    "    tf.keras.layers.Dense(NUM_CLASSES, activation='softmax')\n",
    "])"
   ]
  },
  {
   "cell_type": "code",
   "execution_count": 8,
   "metadata": {
    "colab": {
     "base_uri": "https://localhost:8080/"
    },
    "id": "ypqky9tc9hE1",
    "outputId": "5db082bb-30e3-4110-bf63-a1ee777ecd46"
   },
   "outputs": [
    {
     "name": "stdout",
     "output_type": "stream",
     "text": [
      "Model: \"sequential\"\n",
      "_________________________________________________________________\n",
      " Layer (type)                Output Shape              Param #   \n",
      "=================================================================\n",
      " dropout (Dropout)           (None, 42)                0         \n",
      "                                                                 \n",
      " dense (Dense)               (None, 20)                860       \n",
      "                                                                 \n",
      " dropout_1 (Dropout)         (None, 20)                0         \n",
      "                                                                 \n",
      " dense_1 (Dense)             (None, 10)                210       \n",
      "                                                                 \n",
      " dense_2 (Dense)             (None, 5)                 55        \n",
      "                                                                 \n",
      "=================================================================\n",
      "Total params: 1,125\n",
      "Trainable params: 1,125\n",
      "Non-trainable params: 0\n",
      "_________________________________________________________________\n"
     ]
    }
   ],
   "source": [
    "model.summary()  # tf.keras.utils.plot_model(model, show_shapes=True)"
   ]
  },
  {
   "cell_type": "code",
   "execution_count": 9,
   "metadata": {
    "id": "MbMjOflQ9hE1"
   },
   "outputs": [],
   "source": [
    "# Model checkpoint callback\n",
    "cp_callback = tf.keras.callbacks.ModelCheckpoint(\n",
    "    model_save_path, verbose=1, save_weights_only=False)\n",
    "# Callback for early stopping\n",
    "es_callback = tf.keras.callbacks.EarlyStopping(patience=20, verbose=1)"
   ]
  },
  {
   "cell_type": "code",
   "execution_count": 10,
   "metadata": {
    "id": "c3Dac0M_9hE2"
   },
   "outputs": [],
   "source": [
    "# Model compilation\n",
    "model.compile(\n",
    "    optimizer='adam',\n",
    "    loss='sparse_categorical_crossentropy',\n",
    "    metrics=['accuracy']\n",
    ")"
   ]
  },
  {
   "cell_type": "markdown",
   "metadata": {
    "id": "7XI0j1Iu9hE2"
   },
   "source": [
    "# Model training"
   ]
  },
  {
   "cell_type": "code",
   "execution_count": 11,
   "metadata": {
    "colab": {
     "base_uri": "https://localhost:8080/"
    },
    "id": "WirBl-JE9hE3",
    "outputId": "71b30ca2-8294-4d9d-8aa2-800d90d399de",
    "scrolled": true
   },
   "outputs": [
    {
     "name": "stdout",
     "output_type": "stream",
     "text": [
      "Epoch 1/1000\n",
      "22/26 [========================>.....] - ETA: 0s - loss: 1.6362 - accuracy: 0.2319\n",
      "Epoch 1: saving model to model/keypoint_classifier/keypoint_classifier.hdf5\n",
      "26/26 [==============================] - 1s 26ms/step - loss: 1.6285 - accuracy: 0.2408 - val_loss: 1.5244 - val_accuracy: 0.3149\n",
      "Epoch 2/1000\n",
      "23/26 [=========================>....] - ETA: 0s - loss: 1.5092 - accuracy: 0.3237\n",
      "Epoch 2: saving model to model/keypoint_classifier/keypoint_classifier.hdf5\n",
      "26/26 [==============================] - 0s 17ms/step - loss: 1.5032 - accuracy: 0.3334 - val_loss: 1.4252 - val_accuracy: 0.4274\n",
      "Epoch 3/1000\n",
      " 7/26 [=======>......................] - ETA: 0s - loss: 1.4418 - accuracy: 0.3717\n",
      "Epoch 3: saving model to model/keypoint_classifier/keypoint_classifier.hdf5\n",
      "26/26 [==============================] - 0s 8ms/step - loss: 1.4371 - accuracy: 0.3749 - val_loss: 1.3406 - val_accuracy: 0.4973\n",
      "Epoch 4/1000\n",
      "11/26 [===========>..................] - ETA: 0s - loss: 1.3867 - accuracy: 0.4148\n",
      "Epoch 4: saving model to model/keypoint_classifier/keypoint_classifier.hdf5\n",
      "26/26 [==============================] - 0s 8ms/step - loss: 1.3719 - accuracy: 0.4239 - val_loss: 1.2614 - val_accuracy: 0.5254\n",
      "Epoch 5/1000\n",
      "24/26 [==========================>...] - ETA: 0s - loss: 1.3159 - accuracy: 0.4528\n",
      "Epoch 5: saving model to model/keypoint_classifier/keypoint_classifier.hdf5\n",
      "26/26 [==============================] - 0s 8ms/step - loss: 1.3178 - accuracy: 0.4514 - val_loss: 1.1697 - val_accuracy: 0.5644\n",
      "Epoch 6/1000\n",
      "19/26 [====================>.........] - ETA: 0s - loss: 1.2807 - accuracy: 0.4692\n",
      "Epoch 6: saving model to model/keypoint_classifier/keypoint_classifier.hdf5\n",
      "26/26 [==============================] - 0s 6ms/step - loss: 1.2698 - accuracy: 0.4753 - val_loss: 1.1030 - val_accuracy: 0.6361\n",
      "Epoch 7/1000\n",
      "13/26 [==============>...............] - ETA: 0s - loss: 1.2427 - accuracy: 0.4820\n",
      "Epoch 7: saving model to model/keypoint_classifier/keypoint_classifier.hdf5\n",
      "26/26 [==============================] - 0s 9ms/step - loss: 1.2221 - accuracy: 0.5032 - val_loss: 1.0420 - val_accuracy: 0.6561\n",
      "Epoch 8/1000\n",
      "24/26 [==========================>...] - ETA: 0s - loss: 1.1838 - accuracy: 0.5052\n",
      "Epoch 8: saving model to model/keypoint_classifier/keypoint_classifier.hdf5\n",
      "26/26 [==============================] - 0s 6ms/step - loss: 1.1817 - accuracy: 0.5080 - val_loss: 0.9943 - val_accuracy: 0.6679\n",
      "Epoch 9/1000\n",
      "14/26 [===============>..............] - ETA: 0s - loss: 1.1616 - accuracy: 0.5262\n",
      "Epoch 9: saving model to model/keypoint_classifier/keypoint_classifier.hdf5\n",
      "26/26 [==============================] - 0s 6ms/step - loss: 1.1482 - accuracy: 0.5359 - val_loss: 0.9437 - val_accuracy: 0.6679\n",
      "Epoch 10/1000\n",
      "20/26 [======================>.......] - ETA: 0s - loss: 1.1309 - accuracy: 0.5371\n",
      "Epoch 10: saving model to model/keypoint_classifier/keypoint_classifier.hdf5\n",
      "26/26 [==============================] - 0s 6ms/step - loss: 1.1207 - accuracy: 0.5419 - val_loss: 0.9013 - val_accuracy: 0.6715\n",
      "Epoch 11/1000\n",
      "23/26 [=========================>....] - ETA: 0s - loss: 1.0938 - accuracy: 0.5465\n",
      "Epoch 11: saving model to model/keypoint_classifier/keypoint_classifier.hdf5\n",
      "26/26 [==============================] - 0s 13ms/step - loss: 1.0949 - accuracy: 0.5489 - val_loss: 0.8693 - val_accuracy: 0.6878\n",
      "Epoch 12/1000\n",
      "16/26 [=================>............] - ETA: 0s - loss: 1.0741 - accuracy: 0.5518\n",
      "Epoch 12: saving model to model/keypoint_classifier/keypoint_classifier.hdf5\n",
      "26/26 [==============================] - 0s 7ms/step - loss: 1.0644 - accuracy: 0.5576 - val_loss: 0.8351 - val_accuracy: 0.7205\n",
      "Epoch 13/1000\n",
      "21/26 [=======================>......] - ETA: 0s - loss: 1.0573 - accuracy: 0.5666\n",
      "Epoch 13: saving model to model/keypoint_classifier/keypoint_classifier.hdf5\n",
      "26/26 [==============================] - 0s 6ms/step - loss: 1.0487 - accuracy: 0.5713 - val_loss: 0.8087 - val_accuracy: 0.7296\n",
      "Epoch 14/1000\n",
      "16/26 [=================>............] - ETA: 0s - loss: 1.0212 - accuracy: 0.5732\n",
      "Epoch 14: saving model to model/keypoint_classifier/keypoint_classifier.hdf5\n",
      "26/26 [==============================] - 0s 6ms/step - loss: 1.0199 - accuracy: 0.5779 - val_loss: 0.7736 - val_accuracy: 0.7350\n",
      "Epoch 15/1000\n",
      "20/26 [======================>.......] - ETA: 0s - loss: 1.0122 - accuracy: 0.5828\n",
      "Epoch 15: saving model to model/keypoint_classifier/keypoint_classifier.hdf5\n",
      "26/26 [==============================] - 0s 6ms/step - loss: 1.0102 - accuracy: 0.5837 - val_loss: 0.7557 - val_accuracy: 0.7396\n",
      "Epoch 16/1000\n",
      "21/26 [=======================>......] - ETA: 0s - loss: 0.9918 - accuracy: 0.5848\n",
      "Epoch 16: saving model to model/keypoint_classifier/keypoint_classifier.hdf5\n",
      "26/26 [==============================] - 0s 6ms/step - loss: 0.9999 - accuracy: 0.5803 - val_loss: 0.7375 - val_accuracy: 0.7423\n",
      "Epoch 17/1000\n",
      "16/26 [=================>............] - ETA: 0s - loss: 0.9752 - accuracy: 0.5977\n",
      "Epoch 17: saving model to model/keypoint_classifier/keypoint_classifier.hdf5\n",
      "26/26 [==============================] - 0s 7ms/step - loss: 0.9889 - accuracy: 0.5909 - val_loss: 0.7111 - val_accuracy: 0.7441\n",
      "Epoch 18/1000\n",
      "16/26 [=================>............] - ETA: 0s - loss: 0.9541 - accuracy: 0.6074\n",
      "Epoch 18: saving model to model/keypoint_classifier/keypoint_classifier.hdf5\n",
      "26/26 [==============================] - 0s 6ms/step - loss: 0.9445 - accuracy: 0.6151 - val_loss: 0.6918 - val_accuracy: 0.7613\n",
      "Epoch 19/1000\n",
      "17/26 [==================>...........] - ETA: 0s - loss: 0.9604 - accuracy: 0.6135\n",
      "Epoch 19: saving model to model/keypoint_classifier/keypoint_classifier.hdf5\n",
      "26/26 [==============================] - 0s 5ms/step - loss: 0.9504 - accuracy: 0.6106 - val_loss: 0.6699 - val_accuracy: 0.7713\n",
      "Epoch 20/1000\n",
      "22/26 [========================>.....] - ETA: 0s - loss: 0.9409 - accuracy: 0.6122\n",
      "Epoch 20: saving model to model/keypoint_classifier/keypoint_classifier.hdf5\n",
      "26/26 [==============================] - 0s 6ms/step - loss: 0.9471 - accuracy: 0.6124 - val_loss: 0.6635 - val_accuracy: 0.7704\n",
      "Epoch 21/1000\n",
      "19/26 [====================>.........] - ETA: 0s - loss: 0.9388 - accuracy: 0.6180\n",
      "Epoch 21: saving model to model/keypoint_classifier/keypoint_classifier.hdf5\n",
      "26/26 [==============================] - 0s 6ms/step - loss: 0.9354 - accuracy: 0.6197 - val_loss: 0.6453 - val_accuracy: 0.7904\n",
      "Epoch 22/1000\n",
      "13/26 [==============>...............] - ETA: 0s - loss: 0.9298 - accuracy: 0.6250\n",
      "Epoch 22: saving model to model/keypoint_classifier/keypoint_classifier.hdf5\n",
      "26/26 [==============================] - 0s 6ms/step - loss: 0.9107 - accuracy: 0.6287 - val_loss: 0.6353 - val_accuracy: 0.7895\n",
      "Epoch 23/1000\n",
      "22/26 [========================>.....] - ETA: 0s - loss: 0.9195 - accuracy: 0.6360\n",
      "Epoch 23: saving model to model/keypoint_classifier/keypoint_classifier.hdf5\n",
      "26/26 [==============================] - 0s 6ms/step - loss: 0.9063 - accuracy: 0.6418 - val_loss: 0.6201 - val_accuracy: 0.7949\n",
      "Epoch 24/1000\n",
      "17/26 [==================>...........] - ETA: 0s - loss: 0.8967 - accuracy: 0.6296\n",
      "Epoch 24: saving model to model/keypoint_classifier/keypoint_classifier.hdf5\n",
      "26/26 [==============================] - 0s 8ms/step - loss: 0.9146 - accuracy: 0.6263 - val_loss: 0.6055 - val_accuracy: 0.8013\n",
      "Epoch 25/1000\n",
      "17/26 [==================>...........] - ETA: 0s - loss: 0.8923 - accuracy: 0.6411\n",
      "Epoch 25: saving model to model/keypoint_classifier/keypoint_classifier.hdf5\n",
      "26/26 [==============================] - 0s 6ms/step - loss: 0.8972 - accuracy: 0.6405 - val_loss: 0.5980 - val_accuracy: 0.8040\n",
      "Epoch 26/1000\n",
      "24/26 [==========================>...] - ETA: 0s - loss: 0.8718 - accuracy: 0.6458\n",
      "Epoch 26: saving model to model/keypoint_classifier/keypoint_classifier.hdf5\n",
      "26/26 [==============================] - 0s 6ms/step - loss: 0.8650 - accuracy: 0.6481 - val_loss: 0.5790 - val_accuracy: 0.8076\n",
      "Epoch 27/1000\n",
      "18/26 [===================>..........] - ETA: 0s - loss: 0.8806 - accuracy: 0.6345\n",
      "Epoch 27: saving model to model/keypoint_classifier/keypoint_classifier.hdf5\n",
      "26/26 [==============================] - 0s 7ms/step - loss: 0.8857 - accuracy: 0.6315 - val_loss: 0.5672 - val_accuracy: 0.8131\n",
      "Epoch 28/1000\n",
      "21/26 [=======================>......] - ETA: 0s - loss: 0.8686 - accuracy: 0.6469\n",
      "Epoch 28: saving model to model/keypoint_classifier/keypoint_classifier.hdf5\n",
      "26/26 [==============================] - 0s 5ms/step - loss: 0.8725 - accuracy: 0.6451 - val_loss: 0.5692 - val_accuracy: 0.8131\n",
      "Epoch 29/1000\n",
      "26/26 [==============================] - ETA: 0s - loss: 0.8469 - accuracy: 0.6520\n",
      "Epoch 29: saving model to model/keypoint_classifier/keypoint_classifier.hdf5\n",
      "26/26 [==============================] - 0s 6ms/step - loss: 0.8469 - accuracy: 0.6520 - val_loss: 0.5576 - val_accuracy: 0.8158\n",
      "Epoch 30/1000\n",
      "16/26 [=================>............] - ETA: 0s - loss: 0.8533 - accuracy: 0.6504\n",
      "Epoch 30: saving model to model/keypoint_classifier/keypoint_classifier.hdf5\n",
      "26/26 [==============================] - 0s 7ms/step - loss: 0.8481 - accuracy: 0.6617 - val_loss: 0.5468 - val_accuracy: 0.8203\n",
      "Epoch 31/1000\n",
      "26/26 [==============================] - ETA: 0s - loss: 0.8411 - accuracy: 0.6563\n",
      "Epoch 31: saving model to model/keypoint_classifier/keypoint_classifier.hdf5\n",
      "26/26 [==============================] - 0s 5ms/step - loss: 0.8411 - accuracy: 0.6563 - val_loss: 0.5437 - val_accuracy: 0.8140\n",
      "Epoch 32/1000\n",
      "17/26 [==================>...........] - ETA: 0s - loss: 0.8413 - accuracy: 0.6590\n",
      "Epoch 32: saving model to model/keypoint_classifier/keypoint_classifier.hdf5\n",
      "26/26 [==============================] - 0s 6ms/step - loss: 0.8470 - accuracy: 0.6539 - val_loss: 0.5384 - val_accuracy: 0.8230\n",
      "Epoch 33/1000\n",
      "17/26 [==================>...........] - ETA: 0s - loss: 0.8285 - accuracy: 0.6664\n",
      "Epoch 33: saving model to model/keypoint_classifier/keypoint_classifier.hdf5\n",
      "26/26 [==============================] - 0s 7ms/step - loss: 0.8258 - accuracy: 0.6711 - val_loss: 0.5278 - val_accuracy: 0.8212\n",
      "Epoch 34/1000\n",
      "21/26 [=======================>......] - ETA: 0s - loss: 0.8272 - accuracy: 0.6708\n",
      "Epoch 34: saving model to model/keypoint_classifier/keypoint_classifier.hdf5\n",
      "26/26 [==============================] - 0s 6ms/step - loss: 0.8207 - accuracy: 0.6717 - val_loss: 0.5222 - val_accuracy: 0.8240\n",
      "Epoch 35/1000\n",
      "21/26 [=======================>......] - ETA: 0s - loss: 0.8038 - accuracy: 0.6778\n",
      "Epoch 35: saving model to model/keypoint_classifier/keypoint_classifier.hdf5\n",
      "26/26 [==============================] - 0s 7ms/step - loss: 0.8146 - accuracy: 0.6741 - val_loss: 0.5083 - val_accuracy: 0.8294\n",
      "Epoch 36/1000\n",
      "24/26 [==========================>...] - ETA: 0s - loss: 0.8207 - accuracy: 0.6689\n",
      "Epoch 36: saving model to model/keypoint_classifier/keypoint_classifier.hdf5\n",
      "26/26 [==============================] - 0s 5ms/step - loss: 0.8187 - accuracy: 0.6693 - val_loss: 0.5051 - val_accuracy: 0.8367\n",
      "Epoch 37/1000\n",
      "22/26 [========================>.....] - ETA: 0s - loss: 0.8176 - accuracy: 0.6619\n",
      "Epoch 37: saving model to model/keypoint_classifier/keypoint_classifier.hdf5\n",
      "26/26 [==============================] - 0s 6ms/step - loss: 0.8203 - accuracy: 0.6590 - val_loss: 0.5076 - val_accuracy: 0.8367\n",
      "Epoch 38/1000\n",
      "25/26 [===========================>..] - ETA: 0s - loss: 0.8055 - accuracy: 0.6709\n",
      "Epoch 38: saving model to model/keypoint_classifier/keypoint_classifier.hdf5\n",
      "26/26 [==============================] - 0s 8ms/step - loss: 0.8094 - accuracy: 0.6717 - val_loss: 0.5040 - val_accuracy: 0.8412\n",
      "Epoch 39/1000\n",
      " 5/26 [====>.........................] - ETA: 0s - loss: 0.7621 - accuracy: 0.7000\n",
      "Epoch 39: saving model to model/keypoint_classifier/keypoint_classifier.hdf5\n",
      "26/26 [==============================] - 0s 8ms/step - loss: 0.8097 - accuracy: 0.6766 - val_loss: 0.4968 - val_accuracy: 0.8385\n",
      "Epoch 40/1000\n",
      "20/26 [======================>.......] - ETA: 0s - loss: 0.7920 - accuracy: 0.6703\n",
      "Epoch 40: saving model to model/keypoint_classifier/keypoint_classifier.hdf5\n",
      "26/26 [==============================] - 0s 6ms/step - loss: 0.7867 - accuracy: 0.6750 - val_loss: 0.4930 - val_accuracy: 0.8421\n",
      "Epoch 41/1000\n",
      "17/26 [==================>...........] - ETA: 0s - loss: 0.7933 - accuracy: 0.6792\n",
      "Epoch 41: saving model to model/keypoint_classifier/keypoint_classifier.hdf5\n",
      "26/26 [==============================] - 0s 6ms/step - loss: 0.7871 - accuracy: 0.6775 - val_loss: 0.4875 - val_accuracy: 0.8376\n",
      "Epoch 42/1000\n",
      "20/26 [======================>.......] - ETA: 0s - loss: 0.8023 - accuracy: 0.6812\n",
      "Epoch 42: saving model to model/keypoint_classifier/keypoint_classifier.hdf5\n",
      "26/26 [==============================] - 0s 7ms/step - loss: 0.8036 - accuracy: 0.6750 - val_loss: 0.4889 - val_accuracy: 0.8439\n",
      "Epoch 43/1000\n",
      "18/26 [===================>..........] - ETA: 0s - loss: 0.7699 - accuracy: 0.6758\n",
      "Epoch 43: saving model to model/keypoint_classifier/keypoint_classifier.hdf5\n",
      "26/26 [==============================] - 0s 7ms/step - loss: 0.7850 - accuracy: 0.6720 - val_loss: 0.4833 - val_accuracy: 0.8475\n",
      "Epoch 44/1000\n",
      " 1/26 [>.............................] - ETA: 0s - loss: 0.7715 - accuracy: 0.6250\n",
      "Epoch 44: saving model to model/keypoint_classifier/keypoint_classifier.hdf5\n",
      "26/26 [==============================] - 0s 4ms/step - loss: 0.7958 - accuracy: 0.6787 - val_loss: 0.4855 - val_accuracy: 0.8494\n",
      "Epoch 45/1000\n",
      "20/26 [======================>.......] - ETA: 0s - loss: 0.7896 - accuracy: 0.6664\n",
      "Epoch 45: saving model to model/keypoint_classifier/keypoint_classifier.hdf5\n",
      "26/26 [==============================] - 0s 6ms/step - loss: 0.7865 - accuracy: 0.6720 - val_loss: 0.4746 - val_accuracy: 0.8584\n",
      "Epoch 46/1000\n",
      "20/26 [======================>.......] - ETA: 0s - loss: 0.7776 - accuracy: 0.6867\n",
      "Epoch 46: saving model to model/keypoint_classifier/keypoint_classifier.hdf5\n",
      "26/26 [==============================] - 0s 7ms/step - loss: 0.7821 - accuracy: 0.6838 - val_loss: 0.4688 - val_accuracy: 0.8603\n",
      "Epoch 47/1000\n",
      "23/26 [=========================>....] - ETA: 0s - loss: 0.7713 - accuracy: 0.6878\n",
      "Epoch 47: saving model to model/keypoint_classifier/keypoint_classifier.hdf5\n",
      "26/26 [==============================] - 0s 5ms/step - loss: 0.7699 - accuracy: 0.6871 - val_loss: 0.4769 - val_accuracy: 0.8548\n",
      "Epoch 48/1000\n",
      "22/26 [========================>.....] - ETA: 0s - loss: 0.7619 - accuracy: 0.6825\n",
      "Epoch 48: saving model to model/keypoint_classifier/keypoint_classifier.hdf5\n",
      "26/26 [==============================] - 0s 6ms/step - loss: 0.7603 - accuracy: 0.6844 - val_loss: 0.4722 - val_accuracy: 0.8566\n",
      "Epoch 49/1000\n",
      "11/26 [===========>..................] - ETA: 0s - loss: 0.7613 - accuracy: 0.6783\n",
      "Epoch 49: saving model to model/keypoint_classifier/keypoint_classifier.hdf5\n",
      "26/26 [==============================] - 0s 9ms/step - loss: 0.7545 - accuracy: 0.6832 - val_loss: 0.4550 - val_accuracy: 0.8584\n",
      "Epoch 50/1000\n",
      "25/26 [===========================>..] - ETA: 0s - loss: 0.7510 - accuracy: 0.6878\n",
      "Epoch 50: saving model to model/keypoint_classifier/keypoint_classifier.hdf5\n",
      "26/26 [==============================] - 0s 5ms/step - loss: 0.7502 - accuracy: 0.6871 - val_loss: 0.4471 - val_accuracy: 0.8657\n",
      "Epoch 51/1000\n",
      "18/26 [===================>..........] - ETA: 0s - loss: 0.7505 - accuracy: 0.7001\n",
      "Epoch 51: saving model to model/keypoint_classifier/keypoint_classifier.hdf5\n",
      "26/26 [==============================] - 0s 7ms/step - loss: 0.7502 - accuracy: 0.7008 - val_loss: 0.4543 - val_accuracy: 0.8702\n",
      "Epoch 52/1000\n",
      "18/26 [===================>..........] - ETA: 0s - loss: 0.7504 - accuracy: 0.6871\n",
      "Epoch 52: saving model to model/keypoint_classifier/keypoint_classifier.hdf5\n",
      "26/26 [==============================] - 0s 5ms/step - loss: 0.7465 - accuracy: 0.6890 - val_loss: 0.4449 - val_accuracy: 0.8748\n",
      "Epoch 53/1000\n",
      "22/26 [========================>.....] - ETA: 0s - loss: 0.7618 - accuracy: 0.6911\n",
      "Epoch 53: saving model to model/keypoint_classifier/keypoint_classifier.hdf5\n",
      "26/26 [==============================] - 0s 5ms/step - loss: 0.7621 - accuracy: 0.6974 - val_loss: 0.4501 - val_accuracy: 0.8811\n",
      "Epoch 54/1000\n",
      "23/26 [=========================>....] - ETA: 0s - loss: 0.7306 - accuracy: 0.6946\n",
      "Epoch 54: saving model to model/keypoint_classifier/keypoint_classifier.hdf5\n",
      "26/26 [==============================] - 0s 5ms/step - loss: 0.7308 - accuracy: 0.6947 - val_loss: 0.4361 - val_accuracy: 0.8802\n",
      "Epoch 55/1000\n",
      "22/26 [========================>.....] - ETA: 0s - loss: 0.7464 - accuracy: 0.6907\n",
      "Epoch 55: saving model to model/keypoint_classifier/keypoint_classifier.hdf5\n",
      "26/26 [==============================] - 0s 5ms/step - loss: 0.7491 - accuracy: 0.6899 - val_loss: 0.4552 - val_accuracy: 0.8775\n",
      "Epoch 56/1000\n",
      "23/26 [=========================>....] - ETA: 0s - loss: 0.7425 - accuracy: 0.7021\n",
      "Epoch 56: saving model to model/keypoint_classifier/keypoint_classifier.hdf5\n",
      "26/26 [==============================] - 0s 6ms/step - loss: 0.7318 - accuracy: 0.7071 - val_loss: 0.4452 - val_accuracy: 0.8730\n",
      "Epoch 57/1000\n",
      " 1/26 [>.............................] - ETA: 0s - loss: 0.8311 - accuracy: 0.6172\n",
      "Epoch 57: saving model to model/keypoint_classifier/keypoint_classifier.hdf5\n",
      "26/26 [==============================] - 0s 5ms/step - loss: 0.7235 - accuracy: 0.7008 - val_loss: 0.4404 - val_accuracy: 0.8820\n",
      "Epoch 58/1000\n",
      "25/26 [===========================>..] - ETA: 0s - loss: 0.7140 - accuracy: 0.7122\n",
      "Epoch 58: saving model to model/keypoint_classifier/keypoint_classifier.hdf5\n",
      "26/26 [==============================] - 0s 6ms/step - loss: 0.7149 - accuracy: 0.7110 - val_loss: 0.4344 - val_accuracy: 0.8802\n",
      "Epoch 59/1000\n",
      "17/26 [==================>...........] - ETA: 0s - loss: 0.7146 - accuracy: 0.7077\n",
      "Epoch 59: saving model to model/keypoint_classifier/keypoint_classifier.hdf5\n",
      "26/26 [==============================] - 0s 7ms/step - loss: 0.7146 - accuracy: 0.7120 - val_loss: 0.4289 - val_accuracy: 0.8811\n",
      "Epoch 60/1000\n",
      "21/26 [=======================>......] - ETA: 0s - loss: 0.7239 - accuracy: 0.7083\n",
      "Epoch 60: saving model to model/keypoint_classifier/keypoint_classifier.hdf5\n",
      "26/26 [==============================] - 0s 6ms/step - loss: 0.7315 - accuracy: 0.7059 - val_loss: 0.4241 - val_accuracy: 0.8811\n",
      "Epoch 61/1000\n",
      "17/26 [==================>...........] - ETA: 0s - loss: 0.7070 - accuracy: 0.7105\n",
      "Epoch 61: saving model to model/keypoint_classifier/keypoint_classifier.hdf5\n",
      "26/26 [==============================] - 0s 7ms/step - loss: 0.7070 - accuracy: 0.7077 - val_loss: 0.4173 - val_accuracy: 0.8820\n",
      "Epoch 62/1000\n",
      "17/26 [==================>...........] - ETA: 0s - loss: 0.7245 - accuracy: 0.7059\n",
      "Epoch 62: saving model to model/keypoint_classifier/keypoint_classifier.hdf5\n",
      "26/26 [==============================] - 0s 7ms/step - loss: 0.7221 - accuracy: 0.7080 - val_loss: 0.4233 - val_accuracy: 0.8811\n",
      "Epoch 63/1000\n",
      "25/26 [===========================>..] - ETA: 0s - loss: 0.7080 - accuracy: 0.7128\n",
      "Epoch 63: saving model to model/keypoint_classifier/keypoint_classifier.hdf5\n",
      "26/26 [==============================] - 0s 6ms/step - loss: 0.7148 - accuracy: 0.7101 - val_loss: 0.4241 - val_accuracy: 0.8947\n",
      "Epoch 64/1000\n",
      "26/26 [==============================] - ETA: 0s - loss: 0.7190 - accuracy: 0.7071\n",
      "Epoch 64: saving model to model/keypoint_classifier/keypoint_classifier.hdf5\n",
      "26/26 [==============================] - 0s 9ms/step - loss: 0.7190 - accuracy: 0.7071 - val_loss: 0.4249 - val_accuracy: 0.8811\n",
      "Epoch 65/1000\n",
      "23/26 [=========================>....] - ETA: 0s - loss: 0.7044 - accuracy: 0.7147\n",
      "Epoch 65: saving model to model/keypoint_classifier/keypoint_classifier.hdf5\n",
      "26/26 [==============================] - 0s 9ms/step - loss: 0.7161 - accuracy: 0.7120 - val_loss: 0.4139 - val_accuracy: 0.9083\n",
      "Epoch 66/1000\n",
      "18/26 [===================>..........] - ETA: 0s - loss: 0.7245 - accuracy: 0.7083\n",
      "Epoch 66: saving model to model/keypoint_classifier/keypoint_classifier.hdf5\n",
      "26/26 [==============================] - 0s 7ms/step - loss: 0.7264 - accuracy: 0.7047 - val_loss: 0.4249 - val_accuracy: 0.8866\n",
      "Epoch 67/1000\n",
      "16/26 [=================>............] - ETA: 0s - loss: 0.7232 - accuracy: 0.7100\n",
      "Epoch 67: saving model to model/keypoint_classifier/keypoint_classifier.hdf5\n",
      "26/26 [==============================] - 0s 7ms/step - loss: 0.7165 - accuracy: 0.7159 - val_loss: 0.4284 - val_accuracy: 0.9074\n",
      "Epoch 68/1000\n",
      "23/26 [=========================>....] - ETA: 0s - loss: 0.6916 - accuracy: 0.7103\n",
      "Epoch 68: saving model to model/keypoint_classifier/keypoint_classifier.hdf5\n",
      "26/26 [==============================] - 0s 7ms/step - loss: 0.6913 - accuracy: 0.7120 - val_loss: 0.4100 - val_accuracy: 0.8938\n",
      "Epoch 69/1000\n",
      "26/26 [==============================] - ETA: 0s - loss: 0.6846 - accuracy: 0.7213\n",
      "Epoch 69: saving model to model/keypoint_classifier/keypoint_classifier.hdf5\n",
      "26/26 [==============================] - 0s 8ms/step - loss: 0.6846 - accuracy: 0.7213 - val_loss: 0.4088 - val_accuracy: 0.9120\n",
      "Epoch 70/1000\n",
      "18/26 [===================>..........] - ETA: 0s - loss: 0.6870 - accuracy: 0.7079\n",
      "Epoch 70: saving model to model/keypoint_classifier/keypoint_classifier.hdf5\n",
      "26/26 [==============================] - 0s 8ms/step - loss: 0.6934 - accuracy: 0.7071 - val_loss: 0.4133 - val_accuracy: 0.9093\n",
      "Epoch 71/1000\n",
      "23/26 [=========================>....] - ETA: 0s - loss: 0.6858 - accuracy: 0.7215\n",
      "Epoch 71: saving model to model/keypoint_classifier/keypoint_classifier.hdf5\n",
      "26/26 [==============================] - 0s 10ms/step - loss: 0.6884 - accuracy: 0.7183 - val_loss: 0.4115 - val_accuracy: 0.8947\n",
      "Epoch 72/1000\n",
      "20/26 [======================>.......] - ETA: 0s - loss: 0.6672 - accuracy: 0.7199\n",
      "Epoch 72: saving model to model/keypoint_classifier/keypoint_classifier.hdf5\n",
      "26/26 [==============================] - 0s 6ms/step - loss: 0.6711 - accuracy: 0.7207 - val_loss: 0.4024 - val_accuracy: 0.9111\n",
      "Epoch 73/1000\n",
      "23/26 [=========================>....] - ETA: 0s - loss: 0.7025 - accuracy: 0.7079\n",
      "Epoch 73: saving model to model/keypoint_classifier/keypoint_classifier.hdf5\n",
      "26/26 [==============================] - 0s 6ms/step - loss: 0.7025 - accuracy: 0.7071 - val_loss: 0.4047 - val_accuracy: 0.9002\n",
      "Epoch 74/1000\n",
      "25/26 [===========================>..] - ETA: 0s - loss: 0.7013 - accuracy: 0.7212\n",
      "Epoch 74: saving model to model/keypoint_classifier/keypoint_classifier.hdf5\n",
      "26/26 [==============================] - 0s 6ms/step - loss: 0.6972 - accuracy: 0.7231 - val_loss: 0.4065 - val_accuracy: 0.8966\n",
      "Epoch 75/1000\n",
      "19/26 [====================>.........] - ETA: 0s - loss: 0.6904 - accuracy: 0.7068\n",
      "Epoch 75: saving model to model/keypoint_classifier/keypoint_classifier.hdf5\n",
      "26/26 [==============================] - 0s 5ms/step - loss: 0.6895 - accuracy: 0.7138 - val_loss: 0.4009 - val_accuracy: 0.9111\n",
      "Epoch 76/1000\n",
      "20/26 [======================>.......] - ETA: 0s - loss: 0.6631 - accuracy: 0.7203\n",
      "Epoch 76: saving model to model/keypoint_classifier/keypoint_classifier.hdf5\n",
      "26/26 [==============================] - 0s 6ms/step - loss: 0.6644 - accuracy: 0.7216 - val_loss: 0.4051 - val_accuracy: 0.9102\n",
      "Epoch 77/1000\n",
      "23/26 [=========================>....] - ETA: 0s - loss: 0.6527 - accuracy: 0.7374\n",
      "Epoch 77: saving model to model/keypoint_classifier/keypoint_classifier.hdf5\n",
      "26/26 [==============================] - 0s 9ms/step - loss: 0.6599 - accuracy: 0.7334 - val_loss: 0.3973 - val_accuracy: 0.9174\n",
      "Epoch 78/1000\n",
      "15/26 [================>.............] - ETA: 0s - loss: 0.6840 - accuracy: 0.7125\n",
      "Epoch 78: saving model to model/keypoint_classifier/keypoint_classifier.hdf5\n",
      "26/26 [==============================] - 0s 9ms/step - loss: 0.6825 - accuracy: 0.7186 - val_loss: 0.4084 - val_accuracy: 0.9093\n",
      "Epoch 79/1000\n",
      "24/26 [==========================>...] - ETA: 0s - loss: 0.6636 - accuracy: 0.7370\n",
      "Epoch 79: saving model to model/keypoint_classifier/keypoint_classifier.hdf5\n",
      "26/26 [==============================] - 0s 7ms/step - loss: 0.6613 - accuracy: 0.7395 - val_loss: 0.3915 - val_accuracy: 0.9020\n",
      "Epoch 80/1000\n",
      "21/26 [=======================>......] - ETA: 0s - loss: 0.6876 - accuracy: 0.7240\n",
      "Epoch 80: saving model to model/keypoint_classifier/keypoint_classifier.hdf5\n",
      "26/26 [==============================] - 0s 6ms/step - loss: 0.6875 - accuracy: 0.7244 - val_loss: 0.4101 - val_accuracy: 0.8820\n",
      "Epoch 81/1000\n",
      "22/26 [========================>.....] - ETA: 0s - loss: 0.6580 - accuracy: 0.7372\n",
      "Epoch 81: saving model to model/keypoint_classifier/keypoint_classifier.hdf5\n",
      "26/26 [==============================] - 0s 6ms/step - loss: 0.6541 - accuracy: 0.7380 - val_loss: 0.3868 - val_accuracy: 0.8811\n",
      "Epoch 82/1000\n",
      " 9/26 [=========>....................] - ETA: 0s - loss: 0.6941 - accuracy: 0.7153\n",
      "Epoch 82: saving model to model/keypoint_classifier/keypoint_classifier.hdf5\n",
      "26/26 [==============================] - 0s 9ms/step - loss: 0.6776 - accuracy: 0.7283 - val_loss: 0.4046 - val_accuracy: 0.8775\n",
      "Epoch 83/1000\n",
      "22/26 [========================>.....] - ETA: 0s - loss: 0.6686 - accuracy: 0.7305\n",
      "Epoch 83: saving model to model/keypoint_classifier/keypoint_classifier.hdf5\n",
      "26/26 [==============================] - 0s 7ms/step - loss: 0.6673 - accuracy: 0.7280 - val_loss: 0.3957 - val_accuracy: 0.8893\n",
      "Epoch 84/1000\n",
      "19/26 [====================>.........] - ETA: 0s - loss: 0.6624 - accuracy: 0.7274\n",
      "Epoch 84: saving model to model/keypoint_classifier/keypoint_classifier.hdf5\n",
      "26/26 [==============================] - 0s 6ms/step - loss: 0.6609 - accuracy: 0.7301 - val_loss: 0.3945 - val_accuracy: 0.8911\n",
      "Epoch 85/1000\n",
      "23/26 [=========================>....] - ETA: 0s - loss: 0.6723 - accuracy: 0.7252\n",
      "Epoch 85: saving model to model/keypoint_classifier/keypoint_classifier.hdf5\n",
      "26/26 [==============================] - 0s 6ms/step - loss: 0.6718 - accuracy: 0.7234 - val_loss: 0.3912 - val_accuracy: 0.9011\n",
      "Epoch 86/1000\n",
      "19/26 [====================>.........] - ETA: 0s - loss: 0.6829 - accuracy: 0.7245\n",
      "Epoch 86: saving model to model/keypoint_classifier/keypoint_classifier.hdf5\n",
      "26/26 [==============================] - 0s 6ms/step - loss: 0.6728 - accuracy: 0.7277 - val_loss: 0.4048 - val_accuracy: 0.8920\n",
      "Epoch 87/1000\n",
      "22/26 [========================>.....] - ETA: 0s - loss: 0.6948 - accuracy: 0.7219\n",
      "Epoch 87: saving model to model/keypoint_classifier/keypoint_classifier.hdf5\n",
      "26/26 [==============================] - 0s 6ms/step - loss: 0.6883 - accuracy: 0.7241 - val_loss: 0.3980 - val_accuracy: 0.9102\n",
      "Epoch 88/1000\n",
      "16/26 [=================>............] - ETA: 0s - loss: 0.6797 - accuracy: 0.7314\n",
      "Epoch 88: saving model to model/keypoint_classifier/keypoint_classifier.hdf5\n",
      "26/26 [==============================] - 0s 5ms/step - loss: 0.6669 - accuracy: 0.7310 - val_loss: 0.3940 - val_accuracy: 0.9038\n",
      "Epoch 89/1000\n",
      " 9/26 [=========>....................] - ETA: 0s - loss: 0.6499 - accuracy: 0.7326\n",
      "Epoch 89: saving model to model/keypoint_classifier/keypoint_classifier.hdf5\n",
      "26/26 [==============================] - 0s 6ms/step - loss: 0.6548 - accuracy: 0.7304 - val_loss: 0.3908 - val_accuracy: 0.8938\n",
      "Epoch 90/1000\n",
      "20/26 [======================>.......] - ETA: 0s - loss: 0.6514 - accuracy: 0.7273\n",
      "Epoch 90: saving model to model/keypoint_classifier/keypoint_classifier.hdf5\n",
      "26/26 [==============================] - 0s 5ms/step - loss: 0.6539 - accuracy: 0.7280 - val_loss: 0.3847 - val_accuracy: 0.9056\n",
      "Epoch 91/1000\n",
      "24/26 [==========================>...] - ETA: 0s - loss: 0.6657 - accuracy: 0.7340\n",
      "Epoch 91: saving model to model/keypoint_classifier/keypoint_classifier.hdf5\n",
      "26/26 [==============================] - 0s 8ms/step - loss: 0.6597 - accuracy: 0.7365 - val_loss: 0.3910 - val_accuracy: 0.9047\n",
      "Epoch 92/1000\n",
      "14/26 [===============>..............] - ETA: 0s - loss: 0.6721 - accuracy: 0.7294\n",
      "Epoch 92: saving model to model/keypoint_classifier/keypoint_classifier.hdf5\n",
      "26/26 [==============================] - 0s 5ms/step - loss: 0.6543 - accuracy: 0.7322 - val_loss: 0.3934 - val_accuracy: 0.9111\n",
      "Epoch 93/1000\n",
      "23/26 [=========================>....] - ETA: 0s - loss: 0.6676 - accuracy: 0.7293\n",
      "Epoch 93: saving model to model/keypoint_classifier/keypoint_classifier.hdf5\n",
      "26/26 [==============================] - 0s 5ms/step - loss: 0.6681 - accuracy: 0.7265 - val_loss: 0.3981 - val_accuracy: 0.9056\n",
      "Epoch 94/1000\n",
      "24/26 [==========================>...] - ETA: 0s - loss: 0.6419 - accuracy: 0.7393\n",
      "Epoch 94: saving model to model/keypoint_classifier/keypoint_classifier.hdf5\n",
      "26/26 [==============================] - 0s 4ms/step - loss: 0.6436 - accuracy: 0.7377 - val_loss: 0.3949 - val_accuracy: 0.9083\n",
      "Epoch 95/1000\n",
      "22/26 [========================>.....] - ETA: 0s - loss: 0.6482 - accuracy: 0.7340\n",
      "Epoch 95: saving model to model/keypoint_classifier/keypoint_classifier.hdf5\n",
      "26/26 [==============================] - 0s 5ms/step - loss: 0.6561 - accuracy: 0.7316 - val_loss: 0.3890 - val_accuracy: 0.8866\n",
      "Epoch 96/1000\n",
      "23/26 [=========================>....] - ETA: 0s - loss: 0.6353 - accuracy: 0.7391\n",
      "Epoch 96: saving model to model/keypoint_classifier/keypoint_classifier.hdf5\n",
      "26/26 [==============================] - 0s 5ms/step - loss: 0.6356 - accuracy: 0.7422 - val_loss: 0.3913 - val_accuracy: 0.8857\n",
      "Epoch 97/1000\n",
      "22/26 [========================>.....] - ETA: 0s - loss: 0.6498 - accuracy: 0.7337\n",
      "Epoch 97: saving model to model/keypoint_classifier/keypoint_classifier.hdf5\n",
      "26/26 [==============================] - 0s 8ms/step - loss: 0.6486 - accuracy: 0.7389 - val_loss: 0.3858 - val_accuracy: 0.9129\n",
      "Epoch 98/1000\n",
      "15/26 [================>.............] - ETA: 0s - loss: 0.6538 - accuracy: 0.7292\n",
      "Epoch 98: saving model to model/keypoint_classifier/keypoint_classifier.hdf5\n",
      "26/26 [==============================] - 0s 6ms/step - loss: 0.6525 - accuracy: 0.7298 - val_loss: 0.3908 - val_accuracy: 0.9138\n",
      "Epoch 99/1000\n",
      "17/26 [==================>...........] - ETA: 0s - loss: 0.6357 - accuracy: 0.7394\n",
      "Epoch 99: saving model to model/keypoint_classifier/keypoint_classifier.hdf5\n",
      "26/26 [==============================] - 0s 6ms/step - loss: 0.6300 - accuracy: 0.7416 - val_loss: 0.4003 - val_accuracy: 0.9020\n",
      "Epoch 100/1000\n",
      "19/26 [====================>.........] - ETA: 0s - loss: 0.6677 - accuracy: 0.7257\n",
      "Epoch 100: saving model to model/keypoint_classifier/keypoint_classifier.hdf5\n",
      "26/26 [==============================] - 0s 9ms/step - loss: 0.6741 - accuracy: 0.7204 - val_loss: 0.3933 - val_accuracy: 0.8784\n",
      "Epoch 101/1000\n",
      "10/26 [==========>...................] - ETA: 0s - loss: 0.6439 - accuracy: 0.7414\n",
      "Epoch 101: saving model to model/keypoint_classifier/keypoint_classifier.hdf5\n",
      "26/26 [==============================] - 0s 7ms/step - loss: 0.6439 - accuracy: 0.7389 - val_loss: 0.3740 - val_accuracy: 0.8811\n",
      "Epoch 102/1000\n",
      "25/26 [===========================>..] - ETA: 0s - loss: 0.6380 - accuracy: 0.7297\n",
      "Epoch 102: saving model to model/keypoint_classifier/keypoint_classifier.hdf5\n",
      "26/26 [==============================] - 0s 10ms/step - loss: 0.6404 - accuracy: 0.7310 - val_loss: 0.3833 - val_accuracy: 0.9083\n",
      "Epoch 103/1000\n",
      "21/26 [=======================>......] - ETA: 0s - loss: 0.6286 - accuracy: 0.7400\n",
      "Epoch 103: saving model to model/keypoint_classifier/keypoint_classifier.hdf5\n",
      "26/26 [==============================] - 0s 7ms/step - loss: 0.6336 - accuracy: 0.7389 - val_loss: 0.3820 - val_accuracy: 0.9020\n",
      "Epoch 104/1000\n",
      "14/26 [===============>..............] - ETA: 0s - loss: 0.6399 - accuracy: 0.7327\n",
      "Epoch 104: saving model to model/keypoint_classifier/keypoint_classifier.hdf5\n",
      "26/26 [==============================] - 0s 8ms/step - loss: 0.6451 - accuracy: 0.7231 - val_loss: 0.3878 - val_accuracy: 0.8966\n",
      "Epoch 105/1000\n",
      "22/26 [========================>.....] - ETA: 0s - loss: 0.6325 - accuracy: 0.7390\n",
      "Epoch 105: saving model to model/keypoint_classifier/keypoint_classifier.hdf5\n",
      "26/26 [==============================] - 0s 6ms/step - loss: 0.6363 - accuracy: 0.7386 - val_loss: 0.3861 - val_accuracy: 0.8784\n",
      "Epoch 106/1000\n",
      "22/26 [========================>.....] - ETA: 0s - loss: 0.6386 - accuracy: 0.7294\n",
      "Epoch 106: saving model to model/keypoint_classifier/keypoint_classifier.hdf5\n",
      "26/26 [==============================] - 0s 8ms/step - loss: 0.6400 - accuracy: 0.7313 - val_loss: 0.3813 - val_accuracy: 0.8920\n",
      "Epoch 107/1000\n",
      "22/26 [========================>.....] - ETA: 0s - loss: 0.6364 - accuracy: 0.7290\n",
      "Epoch 107: saving model to model/keypoint_classifier/keypoint_classifier.hdf5\n",
      "26/26 [==============================] - 0s 9ms/step - loss: 0.6384 - accuracy: 0.7274 - val_loss: 0.3815 - val_accuracy: 0.8947\n",
      "Epoch 108/1000\n",
      "21/26 [=======================>......] - ETA: 0s - loss: 0.6449 - accuracy: 0.7381\n",
      "Epoch 108: saving model to model/keypoint_classifier/keypoint_classifier.hdf5\n",
      "26/26 [==============================] - 0s 6ms/step - loss: 0.6501 - accuracy: 0.7359 - val_loss: 0.3926 - val_accuracy: 0.9029\n",
      "Epoch 109/1000\n",
      "18/26 [===================>..........] - ETA: 0s - loss: 0.6399 - accuracy: 0.7378\n",
      "Epoch 109: saving model to model/keypoint_classifier/keypoint_classifier.hdf5\n",
      "26/26 [==============================] - 0s 7ms/step - loss: 0.6286 - accuracy: 0.7467 - val_loss: 0.3765 - val_accuracy: 0.9129\n",
      "Epoch 110/1000\n",
      "23/26 [=========================>....] - ETA: 0s - loss: 0.6331 - accuracy: 0.7442\n",
      "Epoch 110: saving model to model/keypoint_classifier/keypoint_classifier.hdf5\n",
      "26/26 [==============================] - 0s 8ms/step - loss: 0.6322 - accuracy: 0.7416 - val_loss: 0.3872 - val_accuracy: 0.9138\n",
      "Epoch 111/1000\n",
      "14/26 [===============>..............] - ETA: 0s - loss: 0.6646 - accuracy: 0.7333\n",
      "Epoch 111: saving model to model/keypoint_classifier/keypoint_classifier.hdf5\n",
      "26/26 [==============================] - 0s 7ms/step - loss: 0.6512 - accuracy: 0.7362 - val_loss: 0.3888 - val_accuracy: 0.9147\n",
      "Epoch 112/1000\n",
      " 1/26 [>.............................] - ETA: 0s - loss: 0.5916 - accuracy: 0.7500\n",
      "Epoch 112: saving model to model/keypoint_classifier/keypoint_classifier.hdf5\n",
      "26/26 [==============================] - 0s 5ms/step - loss: 0.6321 - accuracy: 0.7422 - val_loss: 0.3902 - val_accuracy: 0.9002\n",
      "Epoch 113/1000\n",
      "20/26 [======================>.......] - ETA: 0s - loss: 0.6226 - accuracy: 0.7355\n",
      "Epoch 113: saving model to model/keypoint_classifier/keypoint_classifier.hdf5\n",
      "26/26 [==============================] - 0s 5ms/step - loss: 0.6330 - accuracy: 0.7343 - val_loss: 0.3862 - val_accuracy: 0.9201\n",
      "Epoch 114/1000\n",
      "22/26 [========================>.....] - ETA: 0s - loss: 0.6163 - accuracy: 0.7514\n",
      "Epoch 114: saving model to model/keypoint_classifier/keypoint_classifier.hdf5\n",
      "26/26 [==============================] - 0s 5ms/step - loss: 0.6143 - accuracy: 0.7470 - val_loss: 0.3747 - val_accuracy: 0.9174\n",
      "Epoch 115/1000\n",
      "19/26 [====================>.........] - ETA: 0s - loss: 0.6322 - accuracy: 0.7352\n",
      "Epoch 115: saving model to model/keypoint_classifier/keypoint_classifier.hdf5\n",
      "26/26 [==============================] - 0s 5ms/step - loss: 0.6334 - accuracy: 0.7392 - val_loss: 0.3761 - val_accuracy: 0.9083\n",
      "Epoch 116/1000\n",
      "18/26 [===================>..........] - ETA: 0s - loss: 0.6118 - accuracy: 0.7387\n",
      "Epoch 116: saving model to model/keypoint_classifier/keypoint_classifier.hdf5\n",
      "26/26 [==============================] - 0s 5ms/step - loss: 0.6097 - accuracy: 0.7452 - val_loss: 0.3726 - val_accuracy: 0.9156\n",
      "Epoch 117/1000\n",
      "21/26 [=======================>......] - ETA: 0s - loss: 0.6363 - accuracy: 0.7452\n",
      "Epoch 117: saving model to model/keypoint_classifier/keypoint_classifier.hdf5\n",
      "26/26 [==============================] - 0s 5ms/step - loss: 0.6278 - accuracy: 0.7513 - val_loss: 0.3838 - val_accuracy: 0.9174\n",
      "Epoch 118/1000\n",
      "21/26 [=======================>......] - ETA: 0s - loss: 0.6177 - accuracy: 0.7533\n",
      "Epoch 118: saving model to model/keypoint_classifier/keypoint_classifier.hdf5\n",
      "26/26 [==============================] - 0s 4ms/step - loss: 0.6213 - accuracy: 0.7519 - val_loss: 0.3757 - val_accuracy: 0.9083\n",
      "Epoch 119/1000\n",
      "18/26 [===================>..........] - ETA: 0s - loss: 0.6241 - accuracy: 0.7452\n",
      "Epoch 119: saving model to model/keypoint_classifier/keypoint_classifier.hdf5\n",
      "26/26 [==============================] - 0s 5ms/step - loss: 0.6193 - accuracy: 0.7492 - val_loss: 0.3810 - val_accuracy: 0.9056\n",
      "Epoch 120/1000\n",
      "19/26 [====================>.........] - ETA: 0s - loss: 0.6152 - accuracy: 0.7508\n",
      "Epoch 120: saving model to model/keypoint_classifier/keypoint_classifier.hdf5\n",
      "26/26 [==============================] - 0s 6ms/step - loss: 0.6188 - accuracy: 0.7552 - val_loss: 0.3871 - val_accuracy: 0.9047\n",
      "Epoch 121/1000\n",
      "21/26 [=======================>......] - ETA: 0s - loss: 0.6324 - accuracy: 0.7321\n",
      "Epoch 121: saving model to model/keypoint_classifier/keypoint_classifier.hdf5\n",
      "26/26 [==============================] - 0s 6ms/step - loss: 0.6267 - accuracy: 0.7340 - val_loss: 0.3923 - val_accuracy: 0.9220\n",
      "Epoch 122/1000\n",
      "15/26 [================>.............] - ETA: 0s - loss: 0.6029 - accuracy: 0.7484\n",
      "Epoch 122: saving model to model/keypoint_classifier/keypoint_classifier.hdf5\n",
      "26/26 [==============================] - 0s 6ms/step - loss: 0.6084 - accuracy: 0.7519 - val_loss: 0.3794 - val_accuracy: 0.9093\n",
      "Epoch 123/1000\n",
      "10/26 [==========>...................] - ETA: 0s - loss: 0.6361 - accuracy: 0.7406\n",
      "Epoch 123: saving model to model/keypoint_classifier/keypoint_classifier.hdf5\n",
      "26/26 [==============================] - 0s 8ms/step - loss: 0.6177 - accuracy: 0.7552 - val_loss: 0.3748 - val_accuracy: 0.9201\n",
      "Epoch 124/1000\n",
      "23/26 [=========================>....] - ETA: 0s - loss: 0.6369 - accuracy: 0.7337\n",
      "Epoch 124: saving model to model/keypoint_classifier/keypoint_classifier.hdf5\n",
      "26/26 [==============================] - 0s 6ms/step - loss: 0.6297 - accuracy: 0.7352 - val_loss: 0.3851 - val_accuracy: 0.9156\n",
      "Epoch 125/1000\n",
      "17/26 [==================>...........] - ETA: 0s - loss: 0.6089 - accuracy: 0.7463\n",
      "Epoch 125: saving model to model/keypoint_classifier/keypoint_classifier.hdf5\n",
      "26/26 [==============================] - 0s 6ms/step - loss: 0.6093 - accuracy: 0.7458 - val_loss: 0.3868 - val_accuracy: 0.8893\n",
      "Epoch 126/1000\n",
      "16/26 [=================>............] - ETA: 0s - loss: 0.6167 - accuracy: 0.7319\n",
      "Epoch 126: saving model to model/keypoint_classifier/keypoint_classifier.hdf5\n",
      "26/26 [==============================] - 0s 6ms/step - loss: 0.6198 - accuracy: 0.7437 - val_loss: 0.3876 - val_accuracy: 0.9238\n",
      "Epoch 127/1000\n",
      "16/26 [=================>............] - ETA: 0s - loss: 0.6275 - accuracy: 0.7510\n",
      "Epoch 127: saving model to model/keypoint_classifier/keypoint_classifier.hdf5\n",
      "26/26 [==============================] - 0s 10ms/step - loss: 0.6219 - accuracy: 0.7489 - val_loss: 0.3839 - val_accuracy: 0.9192\n",
      "Epoch 128/1000\n",
      "23/26 [=========================>....] - ETA: 0s - loss: 0.6425 - accuracy: 0.7323\n",
      "Epoch 128: saving model to model/keypoint_classifier/keypoint_classifier.hdf5\n",
      "26/26 [==============================] - 0s 7ms/step - loss: 0.6362 - accuracy: 0.7346 - val_loss: 0.3847 - val_accuracy: 0.9211\n",
      "Epoch 129/1000\n",
      "22/26 [========================>.....] - ETA: 0s - loss: 0.6247 - accuracy: 0.7479\n",
      "Epoch 129: saving model to model/keypoint_classifier/keypoint_classifier.hdf5\n",
      "26/26 [==============================] - 0s 6ms/step - loss: 0.6228 - accuracy: 0.7513 - val_loss: 0.3980 - val_accuracy: 0.9165\n",
      "Epoch 130/1000\n",
      "21/26 [=======================>......] - ETA: 0s - loss: 0.6252 - accuracy: 0.7392\n",
      "Epoch 130: saving model to model/keypoint_classifier/keypoint_classifier.hdf5\n",
      "26/26 [==============================] - 0s 6ms/step - loss: 0.6247 - accuracy: 0.7401 - val_loss: 0.3785 - val_accuracy: 0.9165\n",
      "Epoch 131/1000\n",
      "17/26 [==================>...........] - ETA: 0s - loss: 0.6259 - accuracy: 0.7500\n",
      "Epoch 131: saving model to model/keypoint_classifier/keypoint_classifier.hdf5\n",
      "26/26 [==============================] - 0s 6ms/step - loss: 0.6170 - accuracy: 0.7510 - val_loss: 0.3789 - val_accuracy: 0.9183\n",
      "Epoch 132/1000\n",
      "20/26 [======================>.......] - ETA: 0s - loss: 0.6037 - accuracy: 0.7594\n",
      "Epoch 132: saving model to model/keypoint_classifier/keypoint_classifier.hdf5\n",
      "26/26 [==============================] - 0s 6ms/step - loss: 0.6138 - accuracy: 0.7543 - val_loss: 0.3715 - val_accuracy: 0.9192\n",
      "Epoch 133/1000\n",
      "19/26 [====================>.........] - ETA: 0s - loss: 0.6177 - accuracy: 0.7549\n",
      "Epoch 133: saving model to model/keypoint_classifier/keypoint_classifier.hdf5\n",
      "26/26 [==============================] - 0s 7ms/step - loss: 0.6230 - accuracy: 0.7531 - val_loss: 0.3884 - val_accuracy: 0.9183\n",
      "Epoch 134/1000\n",
      "18/26 [===================>..........] - ETA: 0s - loss: 0.5979 - accuracy: 0.7439\n",
      "Epoch 134: saving model to model/keypoint_classifier/keypoint_classifier.hdf5\n",
      "26/26 [==============================] - 0s 6ms/step - loss: 0.6142 - accuracy: 0.7446 - val_loss: 0.3923 - val_accuracy: 0.9192\n",
      "Epoch 135/1000\n",
      "14/26 [===============>..............] - ETA: 0s - loss: 0.6182 - accuracy: 0.7472\n",
      "Epoch 135: saving model to model/keypoint_classifier/keypoint_classifier.hdf5\n",
      "26/26 [==============================] - 0s 6ms/step - loss: 0.6281 - accuracy: 0.7437 - val_loss: 0.3813 - val_accuracy: 0.9192\n",
      "Epoch 136/1000\n",
      "26/26 [==============================] - ETA: 0s - loss: 0.6106 - accuracy: 0.7483\n",
      "Epoch 136: saving model to model/keypoint_classifier/keypoint_classifier.hdf5\n",
      "26/26 [==============================] - 0s 13ms/step - loss: 0.6106 - accuracy: 0.7483 - val_loss: 0.3804 - val_accuracy: 0.9165\n",
      "Epoch 137/1000\n",
      "25/26 [===========================>..] - ETA: 0s - loss: 0.6005 - accuracy: 0.7503\n",
      "Epoch 137: saving model to model/keypoint_classifier/keypoint_classifier.hdf5\n",
      "26/26 [==============================] - 0s 7ms/step - loss: 0.5999 - accuracy: 0.7498 - val_loss: 0.3739 - val_accuracy: 0.9201\n",
      "Epoch 138/1000\n",
      " 6/26 [=====>........................] - ETA: 0s - loss: 0.6171 - accuracy: 0.7240\n",
      "Epoch 138: saving model to model/keypoint_classifier/keypoint_classifier.hdf5\n",
      "26/26 [==============================] - 0s 7ms/step - loss: 0.5948 - accuracy: 0.7546 - val_loss: 0.3807 - val_accuracy: 0.9165\n",
      "Epoch 139/1000\n",
      "15/26 [================>.............] - ETA: 0s - loss: 0.6195 - accuracy: 0.7406\n",
      "Epoch 139: saving model to model/keypoint_classifier/keypoint_classifier.hdf5\n",
      "26/26 [==============================] - 0s 6ms/step - loss: 0.6019 - accuracy: 0.7461 - val_loss: 0.3735 - val_accuracy: 0.9174\n",
      "Epoch 140/1000\n",
      "13/26 [==============>...............] - ETA: 0s - loss: 0.5950 - accuracy: 0.7686\n",
      "Epoch 140: saving model to model/keypoint_classifier/keypoint_classifier.hdf5\n",
      "26/26 [==============================] - 0s 7ms/step - loss: 0.6003 - accuracy: 0.7546 - val_loss: 0.3776 - val_accuracy: 0.9120\n",
      "Epoch 141/1000\n",
      "13/26 [==============>...............] - ETA: 0s - loss: 0.6017 - accuracy: 0.7530\n",
      "Epoch 141: saving model to model/keypoint_classifier/keypoint_classifier.hdf5\n",
      "26/26 [==============================] - 0s 10ms/step - loss: 0.5876 - accuracy: 0.7634 - val_loss: 0.3648 - val_accuracy: 0.9192\n",
      "Epoch 142/1000\n",
      "21/26 [=======================>......] - ETA: 0s - loss: 0.6102 - accuracy: 0.7474\n",
      "Epoch 142: saving model to model/keypoint_classifier/keypoint_classifier.hdf5\n",
      "26/26 [==============================] - 0s 7ms/step - loss: 0.6011 - accuracy: 0.7489 - val_loss: 0.3768 - val_accuracy: 0.9083\n",
      "Epoch 143/1000\n",
      "19/26 [====================>.........] - ETA: 0s - loss: 0.6116 - accuracy: 0.7484\n",
      "Epoch 143: saving model to model/keypoint_classifier/keypoint_classifier.hdf5\n",
      "26/26 [==============================] - 0s 6ms/step - loss: 0.6003 - accuracy: 0.7546 - val_loss: 0.3724 - val_accuracy: 0.9201\n",
      "Epoch 144/1000\n",
      "20/26 [======================>.......] - ETA: 0s - loss: 0.6151 - accuracy: 0.7500\n",
      "Epoch 144: saving model to model/keypoint_classifier/keypoint_classifier.hdf5\n",
      "26/26 [==============================] - 0s 6ms/step - loss: 0.6104 - accuracy: 0.7492 - val_loss: 0.3783 - val_accuracy: 0.9229\n",
      "Epoch 145/1000\n",
      "19/26 [====================>.........] - ETA: 0s - loss: 0.6003 - accuracy: 0.7504\n",
      "Epoch 145: saving model to model/keypoint_classifier/keypoint_classifier.hdf5\n",
      "26/26 [==============================] - 0s 6ms/step - loss: 0.5915 - accuracy: 0.7555 - val_loss: 0.3733 - val_accuracy: 0.9201\n",
      "Epoch 146/1000\n",
      "16/26 [=================>............] - ETA: 0s - loss: 0.6205 - accuracy: 0.7520\n",
      "Epoch 146: saving model to model/keypoint_classifier/keypoint_classifier.hdf5\n",
      "26/26 [==============================] - 0s 7ms/step - loss: 0.6150 - accuracy: 0.7519 - val_loss: 0.3839 - val_accuracy: 0.9220\n",
      "Epoch 147/1000\n",
      "18/26 [===================>..........] - ETA: 0s - loss: 0.5832 - accuracy: 0.7578\n",
      "Epoch 147: saving model to model/keypoint_classifier/keypoint_classifier.hdf5\n",
      "26/26 [==============================] - 0s 5ms/step - loss: 0.5876 - accuracy: 0.7592 - val_loss: 0.3799 - val_accuracy: 0.9201\n",
      "Epoch 148/1000\n",
      "17/26 [==================>...........] - ETA: 0s - loss: 0.6035 - accuracy: 0.7564\n",
      "Epoch 148: saving model to model/keypoint_classifier/keypoint_classifier.hdf5\n",
      "26/26 [==============================] - 0s 5ms/step - loss: 0.5986 - accuracy: 0.7589 - val_loss: 0.3855 - val_accuracy: 0.9283\n",
      "Epoch 149/1000\n",
      "20/26 [======================>.......] - ETA: 0s - loss: 0.6080 - accuracy: 0.7516\n",
      "Epoch 149: saving model to model/keypoint_classifier/keypoint_classifier.hdf5\n",
      "26/26 [==============================] - 0s 5ms/step - loss: 0.6013 - accuracy: 0.7513 - val_loss: 0.3792 - val_accuracy: 0.9283\n",
      "Epoch 150/1000\n",
      "14/26 [===============>..............] - ETA: 0s - loss: 0.5970 - accuracy: 0.7584\n",
      "Epoch 150: saving model to model/keypoint_classifier/keypoint_classifier.hdf5\n",
      "26/26 [==============================] - 0s 6ms/step - loss: 0.5977 - accuracy: 0.7552 - val_loss: 0.3792 - val_accuracy: 0.9238\n",
      "Epoch 151/1000\n",
      "15/26 [================>.............] - ETA: 0s - loss: 0.5902 - accuracy: 0.7552\n",
      "Epoch 151: saving model to model/keypoint_classifier/keypoint_classifier.hdf5\n",
      "26/26 [==============================] - 0s 5ms/step - loss: 0.5831 - accuracy: 0.7607 - val_loss: 0.3668 - val_accuracy: 0.9301\n",
      "Epoch 152/1000\n",
      "18/26 [===================>..........] - ETA: 0s - loss: 0.6031 - accuracy: 0.7426\n",
      "Epoch 152: saving model to model/keypoint_classifier/keypoint_classifier.hdf5\n",
      "26/26 [==============================] - 0s 9ms/step - loss: 0.6043 - accuracy: 0.7410 - val_loss: 0.3820 - val_accuracy: 0.9229\n",
      "Epoch 153/1000\n",
      "15/26 [================>.............] - ETA: 0s - loss: 0.6139 - accuracy: 0.7443\n",
      "Epoch 153: saving model to model/keypoint_classifier/keypoint_classifier.hdf5\n",
      "26/26 [==============================] - 0s 6ms/step - loss: 0.6013 - accuracy: 0.7489 - val_loss: 0.3766 - val_accuracy: 0.9247\n",
      "Epoch 154/1000\n",
      "16/26 [=================>............] - ETA: 0s - loss: 0.5839 - accuracy: 0.7588\n",
      "Epoch 154: saving model to model/keypoint_classifier/keypoint_classifier.hdf5\n",
      "26/26 [==============================] - 0s 6ms/step - loss: 0.5840 - accuracy: 0.7570 - val_loss: 0.3839 - val_accuracy: 0.9201\n",
      "Epoch 155/1000\n",
      "20/26 [======================>.......] - ETA: 0s - loss: 0.5974 - accuracy: 0.7535\n",
      "Epoch 155: saving model to model/keypoint_classifier/keypoint_classifier.hdf5\n",
      "26/26 [==============================] - 0s 7ms/step - loss: 0.5888 - accuracy: 0.7573 - val_loss: 0.3851 - val_accuracy: 0.9174\n",
      "Epoch 156/1000\n",
      "23/26 [=========================>....] - ETA: 0s - loss: 0.6004 - accuracy: 0.7442\n",
      "Epoch 156: saving model to model/keypoint_classifier/keypoint_classifier.hdf5\n",
      "26/26 [==============================] - 0s 5ms/step - loss: 0.5973 - accuracy: 0.7449 - val_loss: 0.3725 - val_accuracy: 0.9256\n",
      "Epoch 157/1000\n",
      " 1/26 [>.............................] - ETA: 0s - loss: 0.5515 - accuracy: 0.7578\n",
      "Epoch 157: saving model to model/keypoint_classifier/keypoint_classifier.hdf5\n",
      "26/26 [==============================] - 0s 5ms/step - loss: 0.5867 - accuracy: 0.7592 - val_loss: 0.3699 - val_accuracy: 0.9256\n",
      "Epoch 158/1000\n",
      "25/26 [===========================>..] - ETA: 0s - loss: 0.5944 - accuracy: 0.7575\n",
      "Epoch 158: saving model to model/keypoint_classifier/keypoint_classifier.hdf5\n",
      "26/26 [==============================] - 0s 8ms/step - loss: 0.5967 - accuracy: 0.7582 - val_loss: 0.3789 - val_accuracy: 0.9274\n",
      "Epoch 159/1000\n",
      "20/26 [======================>.......] - ETA: 0s - loss: 0.5893 - accuracy: 0.7613\n",
      "Epoch 159: saving model to model/keypoint_classifier/keypoint_classifier.hdf5\n",
      "26/26 [==============================] - 0s 5ms/step - loss: 0.5866 - accuracy: 0.7582 - val_loss: 0.3676 - val_accuracy: 0.9310\n",
      "Epoch 160/1000\n",
      "10/26 [==========>...................] - ETA: 0s - loss: 0.6178 - accuracy: 0.7375\n",
      "Epoch 160: saving model to model/keypoint_classifier/keypoint_classifier.hdf5\n",
      "26/26 [==============================] - 0s 8ms/step - loss: 0.5893 - accuracy: 0.7604 - val_loss: 0.3726 - val_accuracy: 0.9319\n",
      "Epoch 161/1000\n",
      "25/26 [===========================>..] - ETA: 0s - loss: 0.5936 - accuracy: 0.7659\n",
      "Epoch 161: saving model to model/keypoint_classifier/keypoint_classifier.hdf5\n",
      "26/26 [==============================] - 0s 8ms/step - loss: 0.5939 - accuracy: 0.7637 - val_loss: 0.3705 - val_accuracy: 0.9256\n",
      "Epoch 161: early stopping\n"
     ]
    },
    {
     "data": {
      "text/plain": [
       "<keras.callbacks.History at 0x7f60a763a4d0>"
      ]
     },
     "execution_count": 11,
     "metadata": {},
     "output_type": "execute_result"
    }
   ],
   "source": [
    "model.fit(\n",
    "    X_train,\n",
    "    y_train,\n",
    "    epochs=1000,\n",
    "    batch_size=128,\n",
    "    validation_data=(X_test, y_test),\n",
    "    callbacks=[cp_callback, es_callback]\n",
    ")"
   ]
  },
  {
   "cell_type": "code",
   "execution_count": 12,
   "metadata": {
    "colab": {
     "base_uri": "https://localhost:8080/"
    },
    "id": "pxvb2Y299hE3",
    "outputId": "59eb3185-2e37-4b9e-bc9d-ab1b8ac29b7f"
   },
   "outputs": [
    {
     "name": "stdout",
     "output_type": "stream",
     "text": [
      "9/9 [==============================] - 0s 14ms/step - loss: 0.3705 - accuracy: 0.9256\n"
     ]
    }
   ],
   "source": [
    "# Model evaluation\n",
    "val_loss, val_acc = model.evaluate(X_test, y_test, batch_size=128)"
   ]
  },
  {
   "cell_type": "code",
   "execution_count": 13,
   "metadata": {
    "id": "RBkmDeUW9hE4"
   },
   "outputs": [],
   "source": [
    "# Loading the saved model\n",
    "model = tf.keras.models.load_model(model_save_path)"
   ]
  },
  {
   "cell_type": "code",
   "execution_count": 14,
   "metadata": {
    "colab": {
     "base_uri": "https://localhost:8080/"
    },
    "id": "tFz9Tb0I9hE4",
    "outputId": "1c3b3528-54ae-4ee2-ab04-77429211cbef"
   },
   "outputs": [
    {
     "name": "stdout",
     "output_type": "stream",
     "text": [
      "1/1 [==============================] - 0s 105ms/step\n",
      "[0.01998285 0.02196299 0.03221897 0.8919851  0.0338501 ]\n",
      "3\n"
     ]
    }
   ],
   "source": [
    "# Inference test\n",
    "predict_result = model.predict(np.array([X_test[0]]))\n",
    "print(np.squeeze(predict_result))\n",
    "print(np.argmax(np.squeeze(predict_result)))"
   ]
  },
  {
   "cell_type": "markdown",
   "metadata": {
    "id": "S3U4yNWx9hE4"
   },
   "source": [
    "# Confusion matrix"
   ]
  },
  {
   "cell_type": "code",
   "execution_count": 15,
   "metadata": {
    "colab": {
     "base_uri": "https://localhost:8080/",
     "height": 582
    },
    "id": "AP1V6SCk9hE5",
    "outputId": "08e41a80-7a4a-4619-8125-ecc371368d19"
   },
   "outputs": [
    {
     "name": "stdout",
     "output_type": "stream",
     "text": [
      "35/35 [==============================] - 0s 4ms/step\n"
     ]
    },
    {
     "data": {
      "image/png": "[encoded data removed]",
      "text/plain": [
       "<Figure size 700x600 with 2 Axes>"
      ]
     },
     "metadata": {},
     "output_type": "display_data"
    },
    {
     "name": "stdout",
     "output_type": "stream",
     "text": [
      "Classification Report\n",
      "              precision    recall  f1-score   support\n",
      "\n",
      "           0       0.98      0.98      0.98       414\n",
      "           1       0.92      0.89      0.91       384\n",
      "           2       0.73      0.89      0.80       131\n",
      "           3       0.99      0.98      0.98        96\n",
      "           4       0.98      0.82      0.89        77\n",
      "\n",
      "    accuracy                           0.93      1102\n",
      "   macro avg       0.92      0.91      0.91      1102\n",
      "weighted avg       0.93      0.93      0.93      1102\n",
      "\n"
     ]
    }
   ],
   "source": [
    "import pandas as pd\n",
    "import seaborn as sns\n",
    "import matplotlib.pyplot as plt\n",
    "from sklearn.metrics import confusion_matrix, classification_report\n",
    "\n",
    "def print_confusion_matrix(y_true, y_pred, report=True):\n",
    "    labels = sorted(list(set(y_true)))\n",
    "    cmx_data = confusion_matrix(y_true, y_pred, labels=labels)\n",
    "    \n",
    "    df_cmx = pd.DataFrame(cmx_data, index=labels, columns=labels)\n",
    " \n",
    "    fig, ax = plt.subplots(figsize=(7, 6))\n",
    "    sns.heatmap(df_cmx, annot=True, fmt='g' ,square=False)\n",
    "    ax.set_ylim(len(set(y_true)), 0)\n",
    "    plt.show()\n",
    "    \n",
    "    if report:\n",
    "        print('Classification Report')\n",
    "        print(classification_report(y_test, y_pred))\n",
    "\n",
    "Y_pred = model.predict(X_test)\n",
    "y_pred = np.argmax(Y_pred, axis=1)\n",
    "\n",
    "print_confusion_matrix(y_test, y_pred)"
   ]
  },
  {
   "cell_type": "markdown",
   "metadata": {
    "id": "FNP6aqzc9hE5"
   },
   "source": [
    "# Convert to model for Tensorflow-Lite"
   ]
  },
  {
   "cell_type": "code",
   "execution_count": 16,
   "metadata": {
    "id": "ODjnYyld9hE6"
   },
   "outputs": [],
   "source": [
    "# Save as a model dedicated to inference\n",
    "model.save(model_save_path, include_optimizer=False)"
   ]
  },
  {
   "cell_type": "code",
   "execution_count": 17,
   "metadata": {
    "colab": {
     "base_uri": "https://localhost:8080/"
    },
    "id": "zRfuK8Y59hE6",
    "outputId": "a4ca585c-b5d5-4244-8291-8674063209bb"
   },
   "outputs": [
    {
     "name": "stderr",
     "output_type": "stream",
     "text": [
      "2024-07-18 10:32:56.613185: I tensorflow/core/common_runtime/executor.cc:1197] [/device:CPU:0] (DEBUG INFO) Executor start aborting (this does not indicate an error and you can ignore this message): INVALID_ARGUMENT: You must feed a value for placeholder tensor 'input_1' with dtype float and shape [?,42]\n",
      "\t [[{{node input_1}}]]\n",
      "2024-07-18 10:32:56.707329: I tensorflow/core/common_runtime/executor.cc:1197] [/device:CPU:0] (DEBUG INFO) Executor start aborting (this does not indicate an error and you can ignore this message): INVALID_ARGUMENT: You must feed a value for placeholder tensor 'inputs' with dtype float and shape [?,42]\n",
      "\t [[{{node inputs}}]]\n",
      "2024-07-18 10:32:56.736954: I tensorflow/core/common_runtime/executor.cc:1197] [/device:CPU:0] (DEBUG INFO) Executor start aborting (this does not indicate an error and you can ignore this message): INVALID_ARGUMENT: You must feed a value for placeholder tensor 'input_1' with dtype float and shape [?,42]\n",
      "\t [[{{node input_1}}]]\n",
      "2024-07-18 10:32:56.788685: I tensorflow/core/common_runtime/executor.cc:1197] [/device:CPU:0] (DEBUG INFO) Executor start aborting (this does not indicate an error and you can ignore this message): INVALID_ARGUMENT: You must feed a value for placeholder tensor 'inputs' with dtype float and shape [?,42]\n",
      "\t [[{{node inputs}}]]\n",
      "2024-07-18 10:32:56.807873: I tensorflow/core/common_runtime/executor.cc:1197] [/device:CPU:0] (DEBUG INFO) Executor start aborting (this does not indicate an error and you can ignore this message): INVALID_ARGUMENT: You must feed a value for placeholder tensor 'inputs' with dtype float and shape [?,20]\n",
      "\t [[{{node inputs}}]]\n",
      "2024-07-18 10:32:56.837948: I tensorflow/core/common_runtime/executor.cc:1197] [/device:CPU:0] (DEBUG INFO) Executor start aborting (this does not indicate an error and you can ignore this message): INVALID_ARGUMENT: You must feed a value for placeholder tensor 'inputs' with dtype float and shape [?,42]\n",
      "\t [[{{node inputs}}]]\n",
      "2024-07-18 10:32:56.909391: I tensorflow/core/common_runtime/executor.cc:1197] [/device:CPU:0] (DEBUG INFO) Executor start aborting (this does not indicate an error and you can ignore this message): INVALID_ARGUMENT: You must feed a value for placeholder tensor 'inputs' with dtype float and shape [?,42]\n",
      "\t [[{{node inputs}}]]\n",
      "2024-07-18 10:32:56.954502: I tensorflow/core/common_runtime/executor.cc:1197] [/device:CPU:0] (DEBUG INFO) Executor start aborting (this does not indicate an error and you can ignore this message): INVALID_ARGUMENT: You must feed a value for placeholder tensor 'inputs' with dtype float and shape [?,42]\n",
      "\t [[{{node inputs}}]]\n",
      "2024-07-18 10:32:56.978400: I tensorflow/core/common_runtime/executor.cc:1197] [/device:CPU:0] (DEBUG INFO) Executor start aborting (this does not indicate an error and you can ignore this message): INVALID_ARGUMENT: You must feed a value for placeholder tensor 'inputs' with dtype float and shape [?,20]\n",
      "\t [[{{node inputs}}]]\n",
      "WARNING:absl:Found untraced functions such as _update_step_xla while saving (showing 1 of 1). These functions will not be directly callable after loading.\n"
     ]
    },
    {
     "name": "stdout",
     "output_type": "stream",
     "text": [
      "INFO:tensorflow:Assets written to: /tmp/tmpy77bzpjl/assets\n"
     ]
    },
    {
     "name": "stderr",
     "output_type": "stream",
     "text": [
      "INFO:tensorflow:Assets written to: /tmp/tmpy77bzpjl/assets\n",
      "2024-07-18 10:32:57.567840: W tensorflow/compiler/mlir/lite/python/tf_tfl_flatbuffer_helpers.cc:364] Ignored output_format.\n",
      "2024-07-18 10:32:57.567870: W tensorflow/compiler/mlir/lite/python/tf_tfl_flatbuffer_helpers.cc:367] Ignored drop_control_dependency.\n",
      "2024-07-18 10:32:57.568359: I tensorflow/cc/saved_model/reader.cc:45] Reading SavedModel from: /tmp/tmpy77bzpjl\n",
      "2024-07-18 10:32:57.569232: I tensorflow/cc/saved_model/reader.cc:89] Reading meta graph with tags { serve }\n",
      "2024-07-18 10:32:57.569249: I tensorflow/cc/saved_model/reader.cc:130] Reading SavedModel debug info (if present) from: /tmp/tmpy77bzpjl\n",
      "2024-07-18 10:32:57.569951: I tensorflow/core/common_runtime/process_util.cc:146] Creating new thread pool with default inter op setting: 2. Tune using inter_op_parallelism_threads for best performance.\n",
      "2024-07-18 10:32:57.573649: I tensorflow/compiler/mlir/mlir_graph_optimization_pass.cc:353] MLIR V1 optimization pass is not enabled\n",
      "2024-07-18 10:32:57.574864: I tensorflow/cc/saved_model/loader.cc:231] Restoring SavedModel bundle.\n",
      "2024-07-18 10:32:57.617003: I tensorflow/cc/saved_model/loader.cc:215] Running initialization op on SavedModel bundle at path: /tmp/tmpy77bzpjl\n",
      "2024-07-18 10:32:57.637477: I tensorflow/cc/saved_model/loader.cc:314] SavedModel load for tags { serve }; Status: success: OK. Took 69120 microseconds.\n",
      "2024-07-18 10:32:57.679413: I tensorflow/compiler/mlir/tensorflow/utils/dump_mlir_util.cc:269] disabling MLIR crash reproducer, set env var `MLIR_CRASH_REPRODUCER_DIRECTORY` to enable.\n"
     ]
    },
    {
     "data": {
      "text/plain": [
       "6588"
      ]
     },
     "execution_count": 17,
     "metadata": {},
     "output_type": "execute_result"
    }
   ],
   "source": [
    "# Transform model (quantization)\n",
    "\n",
    "converter = tf.lite.TFLiteConverter.from_keras_model(model)\n",
    "converter.optimizations = [tf.lite.Optimize.DEFAULT]\n",
    "tflite_quantized_model = converter.convert()\n",
    "\n",
    "open(tflite_save_path, 'wb').write(tflite_quantized_model)"
   ]
  },
  {
   "cell_type": "markdown",
   "metadata": {
    "id": "CHBPBXdx9hE6"
   },
   "source": [
    "# Inference test"
   ]
  },
  {
   "cell_type": "code",
   "execution_count": 18,
   "metadata": {
    "id": "mGAzLocO9hE7"
   },
   "outputs": [
    {
     "name": "stderr",
     "output_type": "stream",
     "text": [
      "INFO: Created TensorFlow Lite XNNPACK delegate for CPU.\n"
     ]
    }
   ],
   "source": [
    "interpreter = tf.lite.Interpreter(model_path=tflite_save_path)\n",
    "interpreter.allocate_tensors()"
   ]
  },
  {
   "cell_type": "code",
   "execution_count": 19,
   "metadata": {
    "id": "oQuDK8YS9hE7"
   },
   "outputs": [],
   "source": [
    "# Get I / O tensor\n",
    "input_details = interpreter.get_input_details()\n",
    "output_details = interpreter.get_output_details()"
   ]
  },
  {
   "cell_type": "code",
   "execution_count": 20,
   "metadata": {
    "id": "2_ixAf_l9hE7"
   },
   "outputs": [],
   "source": [
    "interpreter.set_tensor(input_details[0]['index'], np.array([X_test[0]]))"
   ]
  },
  {
   "cell_type": "code",
   "execution_count": 21,
   "metadata": {
    "colab": {
     "base_uri": "https://localhost:8080/"
    },
    "id": "s4FoAnuc9hE7",
    "outputId": "91f18257-8d8b-4ef3-c558-e9b5f94fabbf",
    "scrolled": true
   },
   "outputs": [
    {
     "name": "stdout",
     "output_type": "stream",
     "text": [
      "CPU times: user 224 µs, sys: 575 µs, total: 799 µs\n",
      "Wall time: 634 µs\n"
     ]
    }
   ],
   "source": [
    "%%time\n",
    "# Inference implementation\n",
    "interpreter.invoke()\n",
    "tflite_results = interpreter.get_tensor(output_details[0]['index'])"
   ]
  },
  {
   "cell_type": "code",
   "execution_count": 22,
   "metadata": {
    "colab": {
     "base_uri": "https://localhost:8080/"
    },
    "id": "vONjp19J9hE8",
    "outputId": "77205e24-fd00-42c4-f7b6-e06e527c2cba"
   },
   "outputs": [
    {
     "name": "stdout",
     "output_type": "stream",
     "text": [
      "[0.01998285 0.02196298 0.03221896 0.8919851  0.0338501 ]\n",
      "3\n"
     ]
    }
   ],
   "source": [
    "print(np.squeeze(tflite_results))\n",
    "print(np.argmax(np.squeeze(tflite_results)))"
   ]
  }
 ],
 "metadata": {
  "accelerator": "GPU",
  "colab": {
   "collapsed_sections": [],
   "name": "keypoint_classification_EN.ipynb",
   "provenance": [],
   "toc_visible": true
  },
  "kernelspec": {
   "display_name": "Python 3 (ipykernel)",
   "language": "python",
   "name": "python3"
  },
  "language_info": {
   "codemirror_mode": {
    "name": "ipython",
    "version": 3
   },
   "file_extension": ".py",
   "mimetype": "text/x-python",
   "name": "python",
   "nbconvert_exporter": "python",
   "pygments_lexer": "ipython3",
   "version": "3.11.5"
  }
 },
 "nbformat": 4,
 "nbformat_minor": 4
}
